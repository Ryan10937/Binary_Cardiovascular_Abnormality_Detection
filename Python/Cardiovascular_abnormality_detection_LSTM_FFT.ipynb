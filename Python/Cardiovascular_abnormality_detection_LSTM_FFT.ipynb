{
 "cells": [
  {
   "cell_type": "code",
   "execution_count": 1,
   "id": "6616dc31",
   "metadata": {},
   "outputs": [
    {
     "name": "stdout",
     "output_type": "stream",
     "text": [
      "TensorFlow version: 2.6.0\n"
     ]
    }
   ],
   "source": [
    "import tensorflow as tf\n",
    "import pandas as pd\n",
    "import numpy as np\n",
    "print(\"TensorFlow version:\", tf.__version__)\n",
    "import math\n",
    "import matplotlib.pyplot as plt\n",
    "import wfdb\n",
    "import ast\n",
    "import sys\n",
    "import matplotlib.pyplot as plt\n",
    "\n",
    "\n",
    "def get_freq_bins(signal,fs,num_bins,bin_width,verbose=False):\n",
    "#function that returns num_bins number of bins with width bin_width \n",
    "    size = len(signal)\n",
    "    ts = 1/fs\n",
    "    amplidtude = np.fft.fft(signal,size)/size\n",
    "    df=fs/size; #frequency resolution\n",
    "    f=[i*df for i in range(0,int(size/2))]\n",
    "    if verbose:\n",
    "        plt.figure(1)\n",
    "        plt.subplot(2,1,1)\n",
    "        plt.stem(f,abs(frequencyArr[0:int(size/2)]))\n",
    "        plt.subplot(2,1,2)\n",
    "        plt.plot(signal)\n",
    "\n",
    "    bin_array = np.array(0,dtype = float)\n",
    "    \n",
    "    for i in range(0,num_bins*bin_width,bin_width):\n",
    "        #first index of bin array is the amplitudes from fq 1 to 5. second is 5 to 10 and so on\n",
    "        bin_array = np.append(bin_array, np.sum(abs(amplidtude[i:i+bin_width+1])))\n",
    "    bin_array = np.delete(bin_array,0)\n",
    "    #Make graphs of time series and frequency and save those images as .png\n",
    "    #Make parameter to pass patient ID save as patient_ID_FFT.png patient_ID_TIMESERIES.png\n",
    "    #add validation dataset\n",
    "    return bin_array\n",
    "#use hill climbing to determine the best bin width\n",
    "df_normal = pd.read_csv(\"Data\\ptbdb_normal.csv\")\n",
    "df_abnormal = pd.read_csv(\"Data\\ptbdb_abnormal.csv\")"
   ]
  },
  {
   "cell_type": "code",
   "execution_count": 2,
   "id": "c839901c",
   "metadata": {},
   "outputs": [],
   "source": [
    "\n",
    "bins=77\n",
    "width = 1\n",
    "width_start = 1\n",
    "width_finish = 10\n",
    "best_index = 0\n",
    "best = 0"
   ]
  },
  {
   "cell_type": "code",
   "execution_count": 3,
   "id": "20c8067e",
   "metadata": {},
   "outputs": [],
   "source": [
    "def load_raw_data(df, sampling_rate, path):\n",
    "    if sampling_rate == 100:\n",
    "        data = [wfdb.rdsamp(path+f) for f in df.filename_lr]\n",
    "    else:\n",
    "        data = [wfdb.rdsamp(path+f) for f in df.filename_hr]\n",
    "    data = np.array([signal for signal, meta in data])\n",
    "    return data\n",
    "\n",
    "#path = 'path/to/ptbxl/'\n",
    "path = 'Data/ptb-xl-a-large-publicly-available-electrocardiography-dataset-1.0.1/'\n",
    "#path = 'D:/OneDrive/SchoolFiles/CSCE/Graduate/\"CSCE 5214 - Software for AI\"/Project2/Data/ptb-xl-a-large-publicly-available-electrocardiography-dataset-1.0.1/'\n",
    "sampling_rate=100\n",
    "\n",
    "# load and convert annotation data\n",
    "Y = pd.read_csv(path+'ptbxl_database.csv', index_col='ecg_id')\n",
    "Y.scp_codes = Y.scp_codes.apply(lambda x: ast.literal_eval(x))\n",
    "\n",
    "# Load raw signal data\n",
    "X = load_raw_data(Y, sampling_rate, path)\n",
    "\n",
    "# Load scp_statements.csv for diagnostic aggregation\n",
    "agg_df = pd.read_csv(path+'scp_statements.csv', index_col=0)\n",
    "agg_df = agg_df[agg_df.diagnostic == 1]\n",
    "\n",
    "def aggregate_diagnostic(y_dic):\n",
    "    tmp = []\n",
    "    for key in y_dic.keys():\n",
    "        if key in agg_df.index:\n",
    "            tmp.append(agg_df.loc[key].diagnostic_class)\n",
    "    return list(set(tmp))\n",
    "\n",
    "# Apply diagnostic superclass\n",
    "Y['diagnostic_superclass'] = Y.scp_codes.apply(aggregate_diagnostic)\n",
    "\n",
    "# Split data into train and test\n",
    "test_fold = 10\n",
    "# Train\n",
    "X_train = X[np.where(Y.strat_fold != test_fold)]\n",
    "y_train = Y[(Y.strat_fold != test_fold)].diagnostic_superclass\n",
    "# Test\n",
    "X_test = X[np.where(Y.strat_fold == test_fold)]\n",
    "y_test = Y[Y.strat_fold == test_fold].diagnostic_superclass\n",
    "\n",
    "\n",
    "\n",
    "#pass single signals to get_freq_bins array\n",
    "\n",
    "#reset indecies of y array because it skips some\n",
    "y_train = y_train.reset_index()\n",
    "y_test = y_test.reset_index()\n"
   ]
  },
  {
   "cell_type": "code",
   "execution_count": 4,
   "id": "0d6da687",
   "metadata": {},
   "outputs": [],
   "source": [
    "#make single signals out of data\n",
    "np.set_printoptions(threshold=sys.maxsize)\n",
    "fft_arr = np.ndarray((len(X_train),bins+1))\n",
    "for k in range(0,len(X_train)):\n",
    "    x_long = []\n",
    "    for j in range(0,1000):\n",
    "        for i in range(0,12):\n",
    "            x_long.append(X_train[k][j][i])\n",
    "    ground_truth = -1\n",
    "    if y_train.iloc[i][1] == ['NORM']:\n",
    "        ground_truth = 0\n",
    "    else:\n",
    "        ground_truth = 1\n",
    "    fft_arr[k,0:bins] = get_freq_bins(x_long,100,bins,width)\n",
    "    fft_arr[k,bins-1] = ground_truth\n",
    "    \n",
    "#X_train -> X_test\n",
    "#y_train -> y_test\n",
    "#fft_arr -> test_fft_arr\n",
    "test_fft_arr = np.ndarray((len(X_test),bins+1))\n",
    "\n",
    "for k in range(0,len(X_test)):\n",
    "    x_long = []\n",
    "    for j in range(0,1000):\n",
    "        for i in range(0,12):\n",
    "            x_long.append(X_test[k][j][i])\n",
    "    ground_truth = -1\n",
    "    if y_test.iloc[i][1] == ['NORM']:\n",
    "        ground_truth = 0\n",
    "    else:\n",
    "        ground_truth = 1\n",
    "    test_fft_arr[k,0:bins] = get_freq_bins(x_long,100,bins,width)\n",
    "    test_fft_arr[k,bins-1] = ground_truth\n"
   ]
  },
  {
   "cell_type": "code",
   "execution_count": 5,
   "id": "76d5fe61",
   "metadata": {},
   "outputs": [],
   "source": [
    "\n",
    "#build n by m+1 array where last index is truth value and m is number of bins\n",
    "normal_arr = np.zeros((1,bins+1))\n",
    "for i in range(0,len(df_normal)):\n",
    "    temp_train = get_freq_bins(np.asarray(df_normal.iloc[i,:]),125,bins,width)\n",
    "    normal_arr = np.vstack([normal_arr, np.append(temp_train,0)])\n",
    "\n",
    "abnormal_arr = np.zeros((1,bins+1))\n",
    "for i in range(0,len(df_abnormal)):\n",
    "    temp_train = get_freq_bins(np.asarray(df_abnormal.iloc[i,:]),125,bins,width)\n",
    "    abnormal_arr = np.vstack([abnormal_arr, np.append(temp_train,1)])\n",
    "\n",
    "#make testing sets\n",
    "normal_test = normal_arr[int(len(normal_arr)*0.9):]\n",
    "abnormal_test = abnormal_arr[int(len(abnormal_arr)*0.9):]\n",
    "normal_train = normal_arr[0:int(len(normal_arr)*0.9)]\n",
    "abnormal_train = abnormal_arr[0:int(len(abnormal_arr)*0.9)]\n",
    "\n",
    "#combine both classes\n",
    "train= np.append(abnormal_train, normal_train,axis=0)\n",
    "test= np.append(abnormal_test, normal_test,axis=0)\n",
    "\n",
    "train= np.append(train, fft_arr,axis=0)\n",
    "test= np.append(test, test_fft_arr,axis=0)\n",
    "\n",
    "\n",
    "## LSTM Modification\n",
    "train_len = len(train)\n",
    "test_len = len(test)\n",
    "train = train.reshape((train.shape[0],train.shape[1],1))\n",
    "test = test.reshape((test.shape[0],test.shape[1],1))\n",
    "\n",
    "\n"
   ]
  },
  {
   "cell_type": "code",
   "execution_count": 6,
   "id": "4c949b8b",
   "metadata": {},
   "outputs": [
    {
     "name": "stdout",
     "output_type": "stream",
     "text": [
      "<class 'numpy.ndarray'>\n"
     ]
    }
   ],
   "source": [
    "print(type(train))"
   ]
  },
  {
   "cell_type": "code",
   "execution_count": 12,
   "id": "78ce4f1c",
   "metadata": {},
   "outputs": [
    {
     "name": "stdout",
     "output_type": "stream",
     "text": [
      "115/115 - 1s - loss: 0.0261 - accuracy: 0.9907\n"
     ]
    }
   ],
   "source": [
    "model = tf.keras.models.Sequential([\n",
    "    #tf.keras.layers.Dense(bins, activation='relu'),\n",
    "    \n",
    "    #tf.keras.layers.LSTM(bins,input_shape=train.shape[1:]),#######################################################\n",
    "    tf.keras.layers.LSTM(bins,input_shape=((77, 1))),#######################################################\n",
    "\n",
    "    tf.keras.layers.Dropout(0.2),\n",
    "    tf.keras.layers.Dense(32, activation='relu'),\n",
    "    tf.keras.layers.Dense(2)\n",
    "])\n",
    "\n",
    "loss_fn = tf.keras.losses.SparseCategoricalCrossentropy(from_logits=True)\n",
    "model.compile(optimizer='adam',\n",
    "              loss=loss_fn,\n",
    "              metrics=['accuracy'])\n",
    "\n",
    "#model.fit(x=train[:,0:bins-1],y=train[:,bins],epochs = 100,verbose=0)#training, not test\n",
    "model.fit(x=train[:,0:bins],y=train[:,bins],epochs = 100,verbose=0)#training, not test\n",
    "#add validation dataset\n",
    "#get confidence of classification\n",
    "\n",
    "loss, accuracy = model.evaluate(x=test[:,0:bins],y=test[:,bins], verbose=2)#test\n",
    "if(accuracy > best):\n",
    "    best_index = bins\n",
    "    best = accuracy\n",
    "    model.save('./bins_model.h5')"
   ]
  },
  {
   "cell_type": "code",
   "execution_count": 10,
   "id": "4c245f04",
   "metadata": {},
   "outputs": [
    {
     "data": {
      "text/plain": [
       "(78, 1)"
      ]
     },
     "execution_count": 10,
     "metadata": {},
     "output_type": "execute_result"
    }
   ],
   "source": [
    "#in order to make the LSTM work, i have to make each input 2D (total 3D data). \n",
    "train.shape[1:]"
   ]
  },
  {
   "cell_type": "code",
   "execution_count": 13,
   "id": "0d38b838",
   "metadata": {},
   "outputs": [],
   "source": [
    "model.save('./CAD_LSTM_11_7.h5')"
   ]
  },
  {
   "cell_type": "code",
   "execution_count": 15,
   "id": "b3d07b64",
   "metadata": {},
   "outputs": [
    {
     "data": {
      "text/plain": [
       "array([[0.14036196],\n",
       "       [0.07787759],\n",
       "       [0.06111694],\n",
       "       [0.02790608],\n",
       "       [0.05024123],\n",
       "       [0.05529711],\n",
       "       [0.05286239],\n",
       "       [0.04424322],\n",
       "       [0.04080974],\n",
       "       [0.04309676],\n",
       "       [0.04017423],\n",
       "       [0.05009808],\n",
       "       [0.03831543],\n",
       "       [0.04447626],\n",
       "       [0.02898949],\n",
       "       [0.03231368],\n",
       "       [0.03353185],\n",
       "       [0.03030187],\n",
       "       [0.03612139],\n",
       "       [0.03000473],\n",
       "       [0.0363709 ],\n",
       "       [0.02825955],\n",
       "       [0.03216185],\n",
       "       [0.02215148],\n",
       "       [0.02189557],\n",
       "       [0.02770351],\n",
       "       [0.02167511],\n",
       "       [0.02686774],\n",
       "       [0.02237765],\n",
       "       [0.02270548],\n",
       "       [0.01652249],\n",
       "       [0.01683325],\n",
       "       [0.01467478],\n",
       "       [0.01360304],\n",
       "       [0.01795416],\n",
       "       [0.01370327],\n",
       "       [0.01515558],\n",
       "       [0.00970601],\n",
       "       [0.00980017],\n",
       "       [0.0093999 ],\n",
       "       [0.00730932],\n",
       "       [0.00868041],\n",
       "       [0.00686135],\n",
       "       [0.0091971 ],\n",
       "       [0.00642492],\n",
       "       [0.00756877],\n",
       "       [0.00733209],\n",
       "       [0.00521656],\n",
       "       [0.00781473],\n",
       "       [0.00674015],\n",
       "       [0.00597474],\n",
       "       [0.00525831],\n",
       "       [0.00701643],\n",
       "       [0.00628459],\n",
       "       [0.00679267],\n",
       "       [0.00752598],\n",
       "       [0.00617527],\n",
       "       [0.00778742],\n",
       "       [0.00679572],\n",
       "       [0.0071408 ],\n",
       "       [0.00602212],\n",
       "       [0.00699637],\n",
       "       [0.00647116],\n",
       "       [0.00593891],\n",
       "       [0.00696177],\n",
       "       [0.00522605],\n",
       "       [0.00634743],\n",
       "       [0.00643397],\n",
       "       [0.00849073],\n",
       "       [0.00742454],\n",
       "       [0.00491892],\n",
       "       [0.00567972],\n",
       "       [0.00658082],\n",
       "       [0.00671368],\n",
       "       [0.00688307],\n",
       "       [0.00738545],\n",
       "       [0.00598158]])"
      ]
     },
     "execution_count": 15,
     "metadata": {},
     "output_type": "execute_result"
    }
   ],
   "source": [
    "test[1,0:bins]"
   ]
  },
  {
   "cell_type": "code",
   "execution_count": 16,
   "id": "1d1c6020",
   "metadata": {},
   "outputs": [
    {
     "data": {
      "text/plain": [
       "array([1.])"
      ]
     },
     "execution_count": 16,
     "metadata": {},
     "output_type": "execute_result"
    }
   ],
   "source": [
    "test[1,bins]"
   ]
  },
  {
   "cell_type": "code",
   "execution_count": null,
   "id": "11bbc706",
   "metadata": {},
   "outputs": [],
   "source": []
  }
 ],
 "metadata": {
  "kernelspec": {
   "display_name": "Python 3",
   "language": "python",
   "name": "python3"
  },
  "language_info": {
   "codemirror_mode": {
    "name": "ipython",
    "version": 3
   },
   "file_extension": ".py",
   "mimetype": "text/x-python",
   "name": "python",
   "nbconvert_exporter": "python",
   "pygments_lexer": "ipython3",
   "version": "3.8.8"
  }
 },
 "nbformat": 4,
 "nbformat_minor": 5
}
